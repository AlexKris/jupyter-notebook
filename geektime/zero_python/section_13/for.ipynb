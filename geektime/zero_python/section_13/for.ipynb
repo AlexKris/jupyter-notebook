{
 "cells": [
  {
   "cell_type": "code",
   "execution_count": 5,
   "metadata": {},
   "outputs": [
    {
     "name": "stdout",
     "output_type": "stream",
     "text": [
      "猴\n",
      "鸡\n",
      "狗\n",
      "猪\n",
      "鼠\n",
      "牛\n",
      "虎\n",
      "兔\n",
      "龙\n",
      "蛇\n",
      "马\n",
      "羊\n",
      "1\n",
      "2\n",
      "3\n",
      "4\n",
      "5\n",
      "6\n",
      "7\n",
      "8\n",
      "9\n",
      "10\n",
      "11\n",
      "12\n",
      "2000年的生肖是龙\n",
      "2001年的生肖是蛇\n",
      "2002年的生肖是马\n",
      "2003年的生肖是羊\n",
      "2004年的生肖是猴\n",
      "2005年的生肖是鸡\n",
      "2006年的生肖是狗\n",
      "2007年的生肖是猪\n",
      "2008年的生肖是鼠\n",
      "2009年的生肖是牛\n",
      "2010年的生肖是虎\n",
      "2011年的生肖是兔\n",
      "2012年的生肖是龙\n",
      "2013年的生肖是蛇\n",
      "2014年的生肖是马\n",
      "2015年的生肖是羊\n",
      "2016年的生肖是猴\n",
      "2017年的生肖是鸡\n",
      "2018年的生肖是狗\n"
     ]
    }
   ],
   "source": [
    "chinese_zodiac = '猴鸡狗猪鼠牛虎兔龙蛇马羊'\n",
    "\n",
    "# year = int(input('请用户输入出生年份'))\n",
    "# if(chinese_zodiac[year % 12]) == '狗':\n",
    "#     print('狗年的运势。。。')\n",
    "\n",
    "for cz in chinese_zodiac:\n",
    "    print(cz)\n",
    "\n",
    "for i in range(1, 13):\n",
    "    print(i)\n",
    "\n",
    "for year in range(2000, 2019):\n",
    "    print('%s年的生肖是%s' % (year, chinese_zodiac[year % 12]))"
   ]
  }
 ],
 "metadata": {
  "kernelspec": {
   "display_name": "Python 3",
   "language": "python",
   "name": "python3"
  },
  "language_info": {
   "codemirror_mode": {
    "name": "ipython",
    "version": 3
   },
   "file_extension": ".py",
   "mimetype": "text/x-python",
   "name": "python",
   "nbconvert_exporter": "python",
   "pygments_lexer": "ipython3",
   "version": "3.9.6"
  },
  "orig_nbformat": 4
 },
 "nbformat": 4,
 "nbformat_minor": 2
}
