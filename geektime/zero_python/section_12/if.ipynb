{
 "cells": [
  {
   "cell_type": "code",
   "execution_count": 2,
   "metadata": {},
   "outputs": [
    {
     "name": "stdout",
     "output_type": "stream",
     "text": [
      "x的值和abc不相等\n"
     ]
    }
   ],
   "source": [
    "x = 'abcd'\n",
    "if x == 'abc':\n",
    "    print('x的值和abc相等')\n",
    "else:\n",
    "    print('x的值和abc不相等')"
   ]
  },
  {
   "cell_type": "code",
   "execution_count": 4,
   "metadata": {},
   "outputs": [
    {
     "name": "stdout",
     "output_type": "stream",
     "text": [
      "狗年的运势。。。\n"
     ]
    }
   ],
   "source": [
    "chinese_zodiac = '猴鸡狗猪鼠牛虎兔龙蛇马羊'\n",
    "\n",
    "year = int(input('请用户输入出生年份'))\n",
    "if(chinese_zodiac[year % 12]) == '狗':\n",
    "    print('狗年的运势。。。')"
   ]
  }
 ],
 "metadata": {
  "kernelspec": {
   "display_name": "myenv311",
   "language": "python",
   "name": "python3"
  },
  "language_info": {
   "codemirror_mode": {
    "name": "ipython",
    "version": 3
   },
   "file_extension": ".py",
   "mimetype": "text/x-python",
   "name": "python",
   "nbconvert_exporter": "python",
   "pygments_lexer": "ipython3",
   "version": "3.11.11"
  },
  "orig_nbformat": 4
 },
 "nbformat": 4,
 "nbformat_minor": 2
}
