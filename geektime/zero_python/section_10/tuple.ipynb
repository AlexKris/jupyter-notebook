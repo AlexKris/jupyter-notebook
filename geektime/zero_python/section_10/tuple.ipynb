{
 "cells": [
  {
   "cell_type": "code",
   "execution_count": 17,
   "metadata": {},
   "outputs": [
    {
     "name": "stdout",
     "output_type": "stream",
     "text": [
      "[(1, 20)]\n",
      "摩羯座\n"
     ]
    }
   ],
   "source": [
    "# 小写u，表示unicode\n",
    "zodiac_name = (u'摩羯座', u'水瓶座', u'双鱼座', u'白羊座', \n",
    "               u'金牛座', u'双子座', u'巨蟹座', u'狮子座', \n",
    "               u'处女座', u'天秤座', u'天蝎座', u'射手座')\n",
    "# 元组嵌套\n",
    "zodiac_days = ((1, 20), (2, 19), (3, 21), (4, 21), \n",
    "               (5, 21), (6, 22), (7, 23), (8, 23), \n",
    "               (9, 23), (10, 23), (11, 23), (12, 23))\n",
    "\n",
    "(month, day) = (2, 15)\n",
    "zodiac_day = filter(lambda x: x<=(month, day), zodiac_days)\n",
    "print(list(zodiac_day))\n",
    "zodiac_len = len(list(zodiac_day)) % 12\n",
    "print(zodiac_name[zodiac_len])"
   ]
  },
  {
   "cell_type": "code",
   "execution_count": 11,
   "metadata": {},
   "outputs": [
    {
     "name": "stdout",
     "output_type": "stream",
     "text": [
      "False\n",
      "True\n",
      "False\n",
      "False\n"
     ]
    }
   ],
   "source": [
    "# 元组比较\n",
    "print((4) > (5))\n",
    "print((4) < (5)) \n",
    "print((1, 20) > (2, 20)) # 相当于 120 > 220\n",
    "print((1, 20) > (2, 10)) # 相当于 120 > 210"
   ]
  },
  {
   "cell_type": "code",
   "execution_count": 10,
   "metadata": {},
   "outputs": [
    {
     "name": "stdout",
     "output_type": "stream",
     "text": [
      "<filter object at 0x105a351f0>\n",
      "[1, 3]\n",
      "[1, 3, 5]\n",
      "3\n"
     ]
    }
   ],
   "source": [
    "# filter\n",
    "a = (1, 3, 5, 7)\n",
    "b = 4\n",
    "print(filter(lambda x: x < b, a)) # 取出a中小于4的元素\n",
    "print(list(filter(lambda x: x < b, a))) # 取出a中小于4的元素\n",
    "b = 6\n",
    "print(list(filter(lambda x: x < b, a))) # 取出a中小于6的元素\n",
    "print(len(list(filter(lambda x: x < b, a)))) # 取出a中小于6的元素的个数"
   ]
  }
 ],
 "metadata": {
  "kernelspec": {
   "display_name": "myenv311",
   "language": "python",
   "name": "python3"
  },
  "language_info": {
   "codemirror_mode": {
    "name": "ipython",
    "version": 3
   },
   "file_extension": ".py",
   "mimetype": "text/x-python",
   "name": "python",
   "nbconvert_exporter": "python",
   "pygments_lexer": "ipython3",
   "version": "3.11.11"
  },
  "orig_nbformat": 4
 },
 "nbformat": 4,
 "nbformat_minor": 2
}
