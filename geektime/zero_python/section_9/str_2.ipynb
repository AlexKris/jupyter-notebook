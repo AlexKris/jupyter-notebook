{
 "cells": [
  {
   "cell_type": "code",
   "execution_count": 4,
   "metadata": {},
   "outputs": [
    {
     "name": "stdout",
     "output_type": "stream",
     "text": [
      "2\n",
      "狗\n",
      "True\n",
      "False\n",
      "猴鸡狗猪鼠牛虎兔龙蛇马羊猴鸡狗猪鼠牛虎兔龙蛇马羊\n",
      "猴鸡狗猪鼠牛虎兔龙蛇马羊abcd\n",
      "猴鸡狗猪鼠牛虎兔龙蛇马羊猴鸡狗猪鼠牛虎兔龙蛇马羊猴鸡狗猪鼠牛虎兔龙蛇马羊\n"
     ]
    }
   ],
   "source": [
    "# 记录生肖，根据年份来判断生肖\n",
    "\n",
    "chinese_zodiac = '猴鸡狗猪鼠牛虎兔龙蛇马羊'\n",
    "\n",
    "year = 2018\n",
    "print(year % 12)\n",
    "print(chinese_zodiac[year % 12])\n",
    "\n",
    "print('狗' in chinese_zodiac) # 在\n",
    "print('狗' not in chinese_zodiac) # 不在\n",
    "\n",
    "# 拼接\n",
    "print(chinese_zodiac + chinese_zodiac)\n",
    "print(chinese_zodiac + 'abcd')\n",
    "print(chinese_zodiac * 3)"
   ]
  }
 ],
 "metadata": {
  "kernelspec": {
   "display_name": "Python 3",
   "language": "python",
   "name": "python3"
  },
  "language_info": {
   "codemirror_mode": {
    "name": "ipython",
    "version": 3
   },
   "file_extension": ".py",
   "mimetype": "text/x-python",
   "name": "python",
   "nbconvert_exporter": "python",
   "pygments_lexer": "ipython3",
   "version": "3.9.6"
  },
  "orig_nbformat": 4
 },
 "nbformat": 4,
 "nbformat_minor": 2
}
