{
 "cells": [
  {
   "cell_type": "code",
   "execution_count": 3,
   "metadata": {},
   "outputs": [
    {
     "name": "stdout",
     "output_type": "stream",
     "text": [
      "鼠\n",
      "鼠牛虎兔\n",
      "猪\n"
     ]
    }
   ],
   "source": [
    "# 记录生肖，根据年份来判断生肖\n",
    "\n",
    "chinese_zodiac = '鼠牛虎兔龙蛇马羊猴鸡狗猪'\n",
    "print(chinese_zodiac[0])\n",
    "print(chinese_zodiac[0:4])\n",
    "print(chinese_zodiac[-1])"
   ]
  }
 ],
 "metadata": {
  "kernelspec": {
   "display_name": "Python 3",
   "language": "python",
   "name": "python3"
  },
  "language_info": {
   "codemirror_mode": {
    "name": "ipython",
    "version": 3
   },
   "file_extension": ".py",
   "mimetype": "text/x-python",
   "name": "python",
   "nbconvert_exporter": "python",
   "pygments_lexer": "ipython3",
   "version": "3.9.6"
  },
  "orig_nbformat": 4
 },
 "nbformat": 4,
 "nbformat_minor": 2
}
