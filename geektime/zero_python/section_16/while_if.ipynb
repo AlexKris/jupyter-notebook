{
 "cells": [
  {
   "cell_type": "code",
   "execution_count": 3,
   "metadata": {},
   "outputs": [
    {
     "name": "stdout",
     "output_type": "stream",
     "text": [
      "(1, 20)\n"
     ]
    }
   ],
   "source": [
    "# 小写u，表示unicode\n",
    "zodiac_name = (u'摩羯座', u'水瓶座', u'双鱼座', u'白羊座', \n",
    "               u'金牛座', u'双子座', u'巨蟹座', u'狮子座', \n",
    "               u'处女座', u'天秤座', u'天蝎座', u'射手座')\n",
    "# 元组嵌套\n",
    "zodiac_days = ((1, 20), (2, 19), (3, 21), (4, 21), \n",
    "               (5, 21), (6, 22), (7, 23), (8, 23), \n",
    "               (9, 23), (10, 23), (11, 23), (12, 23))\n",
    "\n",
    "int_month = int(input('请输入月份:'))\n",
    "int_day = int(input('请输入日期:'))\n",
    "\n",
    "n = 0\n",
    "while zodiac_days[n] < (int_month, int_day):\n",
    "    if int_month == 12 and int_day > 23:\n",
    "        break\n",
    "    n += 1\n",
    "print(zodiac_days[n])"
   ]
  }
 ],
 "metadata": {
  "kernelspec": {
   "display_name": "Python 3",
   "language": "python",
   "name": "python3"
  },
  "language_info": {
   "codemirror_mode": {
    "name": "ipython",
    "version": 3
   },
   "file_extension": ".py",
   "mimetype": "text/x-python",
   "name": "python",
   "nbconvert_exporter": "python",
   "pygments_lexer": "ipython3",
   "version": "3.9.6"
  },
  "orig_nbformat": 4
 },
 "nbformat": 4,
 "nbformat_minor": 2
}
