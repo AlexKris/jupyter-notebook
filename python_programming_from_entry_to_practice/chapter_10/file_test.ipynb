{
 "cells": [
  {
   "cell_type": "code",
   "execution_count": 2,
   "metadata": {},
   "outputs": [
    {
     "name": "stdout",
     "output_type": "stream",
     "text": [
      "3.1415926535\n",
      "  8979323846\n",
      "  2643383279\n"
     ]
    }
   ],
   "source": [
    "# 读取整个文件\n",
    "with open('file_test/pi_digits.txt') as file_object:\n",
    "    contents = file_object.read()\n",
    "print(contents)"
   ]
  },
  {
   "attachments": {},
   "cell_type": "markdown",
   "metadata": {},
   "source": [
    "# 打开文件\n",
    "\n",
    "- 函数open()，入参为要打开的文件名称(可以包含文件路径，win中使用\\\\)，返回一个表示文件的对象\n",
    "- 关键字with，在不再需要访问文件后将其关闭\n",
    "- 文件对象的方法read()，读取文件的全部内容"
   ]
  },
  {
   "cell_type": "code",
   "execution_count": 3,
   "metadata": {},
   "outputs": [
    {
     "name": "stdout",
     "output_type": "stream",
     "text": [
      "3.1415926535\n",
      "  8979323846\n",
      "  2643383279\n"
     ]
    }
   ],
   "source": [
    "# 逐行读取\n",
    "file_path = 'file_test/'\n",
    "file_name = 'pi_digits.txt'\n",
    "with open(file_path + file_name) as file_object:\n",
    "    for line in file_object:\n",
    "        print(line.rstrip())# 去除空行"
   ]
  },
  {
   "cell_type": "code",
   "execution_count": 4,
   "metadata": {},
   "outputs": [
    {
     "name": "stdout",
     "output_type": "stream",
     "text": [
      "3.1415926535\n",
      "  8979323846\n",
      "  2643383279\n"
     ]
    }
   ],
   "source": [
    "# 创建包含文件各行内容的列表\n",
    "file_path = 'file_test/'\n",
    "file_name = 'pi_digits.txt'\n",
    "with open(file_path + file_name) as file_object:\n",
    "    # 方法readlines()从文件中读取每一行，并将其存储在一个列表中\n",
    "    lines = file_object.readlines()\n",
    "\n",
    "for line in lines:\n",
    "    print(line.rstrip())"
   ]
  },
  {
   "cell_type": "code",
   "execution_count": 7,
   "metadata": {},
   "outputs": [
    {
     "name": "stdout",
     "output_type": "stream",
     "text": [
      "3.141592653589793238462643383279\n",
      "32\n",
      "3.141592653589793\n"
     ]
    }
   ],
   "source": [
    "# 使用文件的内容\n",
    "# 读取文本内容时，Python会将所有文本都解读为字符串\n",
    "# 如果数字想要作为数值使用，需使用函数int()或float()转换\n",
    "file_path = 'file_test/'\n",
    "file_name = 'pi_digits.txt'\n",
    "with open(file_path + file_name) as file_object:\n",
    "    # 方法readlines()从文件中读取每一行，并将其存储在一个列表中\n",
    "    lines = file_object.readlines()\n",
    "\n",
    "pi_string = ''\n",
    "for line in lines:\n",
    "    pi_string += line.strip()\n",
    "\n",
    "print(pi_string)\n",
    "print(len(pi_string))\n",
    "print(float(pi_string))"
   ]
  },
  {
   "cell_type": "code",
   "execution_count": 8,
   "metadata": {},
   "outputs": [
    {
     "name": "stdout",
     "output_type": "stream",
     "text": [
      "3.14159265...\n",
      "32\n"
     ]
    }
   ],
   "source": [
    "# 打印部分\n",
    "file_path = 'file_test/'\n",
    "file_name = 'pi_digits.txt'\n",
    "with open(file_path + file_name) as file_object:\n",
    "    # 方法readlines()从文件中读取每一行，并将其存储在一个列表中\n",
    "    lines = file_object.readlines()\n",
    "\n",
    "pi_string = ''\n",
    "for line in lines:\n",
    "    pi_string += line.strip()\n",
    "\n",
    "print(f\"{pi_string[:10]}...\")\n",
    "print(len(pi_string))"
   ]
  },
  {
   "cell_type": "code",
   "execution_count": 1,
   "metadata": {},
   "outputs": [],
   "source": [
    "# 写入文件\n",
    "file_path = 'file_test/'\n",
    "file_name = 'programming.txt'\n",
    "with open(file_path + file_name, 'w') as file_object:\n",
    "    file_object.write(\"I love programming.\\n\")"
   ]
  },
  {
   "attachments": {},
   "cell_type": "markdown",
   "metadata": {},
   "source": [
    "# 写入文件\n",
    "\n",
    "- 函数open()，两个入参，第一个是文件路径+名称，第二个是模式，如果文件不存在会自动创建，使用w写入模式时，如果文件已存在，将在返回文件对象前清空该文件内容\n",
    "    - r，读取模式\n",
    "    - w，写入模式\n",
    "    - a，附加模式\n",
    "    - r+，读写模式\n",
    "- 文件对象的write()方法将一个字符串写入文件"
   ]
  },
  {
   "cell_type": "code",
   "execution_count": 2,
   "metadata": {},
   "outputs": [],
   "source": [
    "# 附加模式写入文件\n",
    "file_path = 'file_test/'\n",
    "file_name = 'programming.txt'\n",
    "with open(file_path + file_name, 'a') as file_object:\n",
    "    file_object.write(\"I also love finding meaning in large datasets.\\n\")\n",
    "    file_object.write(\"I love creating apps that can run in a browser.\")"
   ]
  }
 ],
 "metadata": {
  "kernelspec": {
   "display_name": "myenv311",
   "language": "python",
   "name": "python3"
  },
  "language_info": {
   "codemirror_mode": {
    "name": "ipython",
    "version": 3
   },
   "file_extension": ".py",
   "mimetype": "text/x-python",
   "name": "python",
   "nbconvert_exporter": "python",
   "pygments_lexer": "ipython3",
   "version": "3.11.11"
  },
  "orig_nbformat": 4
 },
 "nbformat": 4,
 "nbformat_minor": 2
}
