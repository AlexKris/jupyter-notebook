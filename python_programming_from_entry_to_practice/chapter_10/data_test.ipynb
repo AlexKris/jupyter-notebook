{
 "cells": [
  {
   "cell_type": "markdown",
   "metadata": {},
   "source": [
    "# json"
   ]
  },
  {
   "cell_type": "code",
   "execution_count": 1,
   "metadata": {},
   "outputs": [],
   "source": [
    "import json\n",
    "filepath = 'file_test/'\n",
    "\n",
    "numbers = [2, 3, 5, 7, 11, 13]\n",
    "\n",
    "filename = 'numbers.json'\n",
    "with open(filepath + filename, 'w') as f:\n",
    "    json.dump(numbers, f)"
   ]
  },
  {
   "cell_type": "code",
   "execution_count": 2,
   "metadata": {},
   "outputs": [
    {
     "name": "stdout",
     "output_type": "stream",
     "text": [
      "[2, 3, 5, 7, 11, 13]\n"
     ]
    }
   ],
   "source": [
    "import json\n",
    "filepath = 'file_test/'\n",
    "filename = 'numbers.json'\n",
    "\n",
    "with open(filepath + filename) as f:\n",
    "    numbers = json.load(f)\n",
    "\n",
    "print(numbers)"
   ]
  },
  {
   "cell_type": "code",
   "execution_count": 3,
   "metadata": {},
   "outputs": [
    {
     "name": "stdout",
     "output_type": "stream",
     "text": [
      "We'll remember you when you come back, tony!\n"
     ]
    }
   ],
   "source": [
    "import json\n",
    "filepath = 'file_test/'\n",
    "\n",
    "username = input(\"What is your name? \")\n",
    "\n",
    "filename = 'username.json'\n",
    "with open(filepath + filename, 'w') as f:\n",
    "    json.dump(username, f)\n",
    "    print(f\"We'll remember you when you come back, {username}!\")"
   ]
  },
  {
   "cell_type": "code",
   "execution_count": 4,
   "metadata": {},
   "outputs": [
    {
     "name": "stdout",
     "output_type": "stream",
     "text": [
      "Welcome back, tony!\n"
     ]
    }
   ],
   "source": [
    "import json\n",
    "filepath = 'file_test/'\n",
    "\n",
    "filename = 'username.json'\n",
    "\n",
    "with open(filepath + filename) as f:\n",
    "    username = json.load(f)\n",
    "    print(f\"Welcome back, {username}!\")"
   ]
  },
  {
   "cell_type": "code",
   "execution_count": 5,
   "metadata": {},
   "outputs": [
    {
     "name": "stdout",
     "output_type": "stream",
     "text": [
      "Welcome back, tony!\n"
     ]
    }
   ],
   "source": [
    "# 如果以前存储了用户名，就加载它。\n",
    "# 否则，提示用户输入用户名并存储它。\n",
    "import json\n",
    "filepath = 'file_test/'\n",
    "\n",
    "filename = 'username.json'\n",
    "try:\n",
    "    with open(filepath + filename) as f:\n",
    "        username = json.load(f)\n",
    "except FileNotFoundError:\n",
    "    username = input(\"What is your name? \")\n",
    "    with open(filepath + filename, 'w') as f:\n",
    "        json.dump(username, f)\n",
    "        print(f\"We'll remember you when you come back, {username}!\")\n",
    "else:\n",
    "    print(f\"Welcome back, {username}!\")"
   ]
  },
  {
   "cell_type": "code",
   "execution_count": 19,
   "metadata": {},
   "outputs": [
    {
     "name": "stdout",
     "output_type": "stream",
     "text": [
      "Welcome back, tony!\n"
     ]
    }
   ],
   "source": [
    "def greet_user():\n",
    "    \"\"\"问候用户，并指出其名字。\"\"\"\n",
    "    filename = 'username.json'\n",
    "    try:\n",
    "        with open(filepath + filename) as f:\n",
    "            username = json.load(f)\n",
    "    except FileNotFoundError:\n",
    "        username = input(\"What is your name? \")\n",
    "        with open(filepath + filename, 'w') as f:\n",
    "            json.dump(username, f)\n",
    "            print(f\"We'll remember you when you come back, {username}!\")\n",
    "    else:\n",
    "        print(f\"Welcome back, {username}!\")\n",
    "\n",
    "greet_user()"
   ]
  },
  {
   "cell_type": "code",
   "execution_count": 6,
   "metadata": {},
   "outputs": [
    {
     "name": "stdout",
     "output_type": "stream",
     "text": [
      "Welcome back, tony!\n"
     ]
    }
   ],
   "source": [
    "import json\n",
    "filepath = 'file_test/'\n",
    "\n",
    "def get_stored_username():\n",
    "    \"\"\"如果存储了用户名，就获取它。\"\"\"\n",
    "    filename = 'username.json'\n",
    "    try:\n",
    "        with open(filepath + filename) as f:\n",
    "            username = json.load(f)\n",
    "    except FileNotFoundError:\n",
    "        return None\n",
    "    else:\n",
    "        return username\n",
    "\n",
    "def greet_user():\n",
    "    \"\"\"问候用户，并指出其名字。\"\"\"\n",
    "    username = get_stored_username()\n",
    "    if username:\n",
    "        print(f\"Welcome back, {username}!\")\n",
    "    else:\n",
    "        username = input(\"What is your name? \")\n",
    "        filename = 'username.json'\n",
    "        with open(filepath + filename, 'w') as f:\n",
    "            json.dump(username, f)\n",
    "            print(f\"We'll remember you when you come back, {username}!\")\n",
    "\n",
    "greet_user()"
   ]
  },
  {
   "cell_type": "code",
   "execution_count": 1,
   "metadata": {},
   "outputs": [
    {
     "name": "stdout",
     "output_type": "stream",
     "text": [
      "Welcome back, tony!\n"
     ]
    }
   ],
   "source": [
    "import json\n",
    "filepath = 'file_test/'\n",
    "\n",
    "def get_stored_username():\n",
    "    \"\"\"如果存储了用户名，就获取它。\"\"\"\n",
    "    filename = 'username.json'\n",
    "    try:\n",
    "        with open(filepath + filename) as f:\n",
    "            username = json.load(f)\n",
    "    except FileNotFoundError:\n",
    "        return None\n",
    "    else:\n",
    "        return username\n",
    "\n",
    "def get_new_username():\n",
    "    \"\"\"提示用户输入用户名。\"\"\"\n",
    "    username = input(\"What is your name? \")\n",
    "    filename = 'username.json'\n",
    "    with open(filepath + filename, 'w') as f:\n",
    "        json.dump(username, f)\n",
    "    return username\n",
    "\n",
    "def greet_user():\n",
    "    \"\"\"问候用户，并指出其名字。\"\"\"\n",
    "    username = get_stored_username()\n",
    "    if username:\n",
    "        print(f\"Welcome back, {username}!\")\n",
    "    else:\n",
    "        username = get_new_username()\n",
    "        print(f\"We'll remember you when you come back, {username}!\")\n",
    "\n",
    "greet_user()"
   ]
  }
 ],
 "metadata": {
  "kernelspec": {
   "display_name": "Python 3",
   "language": "python",
   "name": "python3"
  },
  "language_info": {
   "codemirror_mode": {
    "name": "ipython",
    "version": 3
   },
   "file_extension": ".py",
   "mimetype": "text/x-python",
   "name": "python",
   "nbconvert_exporter": "python",
   "pygments_lexer": "ipython3",
   "version": "3.10.9"
  },
  "orig_nbformat": 4,
  "vscode": {
   "interpreter": {
    "hash": "aee8b7b246df8f9039afb4144a1f6fd8d2ca17a180786b69acc140d282b71a49"
   }
  }
 },
 "nbformat": 4,
 "nbformat_minor": 2
}
