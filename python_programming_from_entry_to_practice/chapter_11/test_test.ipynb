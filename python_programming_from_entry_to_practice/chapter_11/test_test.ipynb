{
 "cells": [
  {
   "attachments": {},
   "cell_type": "markdown",
   "metadata": {},
   "source": [
    "# 测试\n",
    "- 为函数或类编写测试\n",
    "- Python模块unittest\n",
    "    - 单元测试用于核实函数的某个方面没有问题\n",
    "    - 测试用例是一组单元测试，它们一道核实函数在各种情形下的行为都符合要求\n",
    "    - 全覆盖的测试用例包含一整套单元测试，涵盖了各种可能的函数使用方式\n",
    "    - 测试类必须继承`unittest.TestCase`类\n",
    "    - `unittest.TestCase`类的断言方法，断言方法核实得到的结果是否与期望的结果一致\n",
    "        ```python\n",
    "        self.assertEqual(formatted_name, 'Janis Joplin')\n",
    "\n",
    "        self.assertEqual(a, b) # 核实 a == b\n",
    "        self.assertNotEqual(a, b) # 核实 a != b\n",
    "        self.assertTrue(x) # 核实 x 为 True\n",
    "        self.assertFalse(x) # 核实 x 为 False\n",
    "        self.assertIn(item, list) # 核实 item 在 list 中\n",
    "        self.assertNotIn(item, list) # 核实 item 不在 list 中\n",
    "        ```\n",
    "    - 使用\n",
    "        - 导入模块`unitest`和要测试的函数`get_fformated_name()`\n",
    "        - 创建名为`NamesTestCase`的类，继承`unittest.TestCase`类，该类指包含一个方法，方法命名以`test_`开头，运行测试工具类时，所有以`test_`开头的方法都将自动运行\n",
    "        - 使用`unittest`类最有用的功能之一：断言，用于核实得到的结果是否与期望的结果一致\n",
    "        - 检查`__name__`变量的值，如果以测试类文件作为主程序执行，该变量值为`'__main__'`\n",
    "    - 使用`setUp()`方法\n",
    "        - 只创建一次测试中使用的对象，就能在所有测试方法中使用，无需每个测试方法中都创建，如果测试类中包含`setUp()`方法，将现运行`setUp()`方法，再运行`test_`开头的方法"
   ]
  }
 ],
 "metadata": {
  "kernelspec": {
   "display_name": "Python 3",
   "language": "python",
   "name": "python3"
  },
  "language_info": {
   "codemirror_mode": {
    "name": "ipython",
    "version": 3
   },
   "file_extension": ".py",
   "mimetype": "text/x-python",
   "name": "python",
   "nbconvert_exporter": "python",
   "pygments_lexer": "ipython3",
   "version": "3.10.9"
  },
  "orig_nbformat": 4,
  "vscode": {
   "interpreter": {
    "hash": "aee8b7b246df8f9039afb4144a1f6fd8d2ca17a180786b69acc140d282b71a49"
   }
  }
 },
 "nbformat": 4,
 "nbformat_minor": 2
}
