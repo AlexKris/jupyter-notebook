{
 "cells": [
  {
   "cell_type": "code",
   "execution_count": 1,
   "id": "fa0a1652-92b9-45bc-9d64-67fd490e95c2",
   "metadata": {},
   "outputs": [
    {
     "name": "stdout",
     "output_type": "stream",
     "text": [
      "First Last\n",
      "first last\n",
      "FIRST LAST\n"
     ]
    }
   ],
   "source": [
    "str = \"first last\"\n",
    "print(str.title())# 首字母大写的方式显示每个单词\n",
    "print(str.lower())# 小写\n",
    "print(str.upper())# 大写"
   ]
  },
  {
   "cell_type": "code",
   "execution_count": 2,
   "id": "363634c9-ddd3-46e7-9dca-021c8743f2b8",
   "metadata": {},
   "outputs": [
    {
     "name": "stdout",
     "output_type": "stream",
     "text": [
      "first last\n",
      "Hello, First Last!\n"
     ]
    }
   ],
   "source": [
    "first_str = \"first\"\n",
    "last_str = \"last\"\n",
    "str = f\"{first_str} {last_str}\"# format {}中为变量\n",
    "print(str)\n",
    "print(f\"Hello, {str.title()}!\")"
   ]
  },
  {
   "cell_type": "code",
   "execution_count": 3,
   "id": "81ca139f-2094-4e92-a480-a3de5c67f63a",
   "metadata": {},
   "outputs": [
    {
     "name": "stdout",
     "output_type": "stream",
     "text": [
      "Python\n",
      "\tPython\n",
      "Languages:\n",
      "Python\n",
      "C\n",
      "JavaScript\n"
     ]
    }
   ],
   "source": [
    "# \\t制表符\n",
    "# \\n换行符\n",
    "print(\"Python\")\n",
    "print(\"\\tPython\")\n",
    "print(\"Languages:\\nPython\\nC\\nJavaScript\")"
   ]
  },
  {
   "cell_type": "code",
   "execution_count": 4,
   "id": "61fb8f6d-f525-489e-9ce9-86c7b0414f2b",
   "metadata": {},
   "outputs": [
    {
     "name": "stdout",
     "output_type": "stream",
     "text": [
      "head python tail\n",
      "headpython tail\n",
      "head pythontail\n",
      "headpythontail\n",
      "headpythontail\n"
     ]
    }
   ],
   "source": [
    "language = \" python \"\n",
    "print(\"head\" + language + \"tail\")\n",
    "print(\"head\" + language.lstrip() + \"tail\")\n",
    "print(\"head\" + language.rstrip() + \"tail\")\n",
    "print(\"head\" + language.strip() + \"tail\")\n",
    "language = language.strip()\n",
    "print(\"head\" + language + \"tail\")"
   ]
  },
  {
   "cell_type": "code",
   "execution_count": 1,
   "id": "a2f37cad-7b17-4356-b210-d6457e10b028",
   "metadata": {},
   "outputs": [
    {
     "name": "stdout",
     "output_type": "stream",
     "text": [
      "One of Python's strengths is its diverse community.\n"
     ]
    }
   ],
   "source": [
    "message = \"One of Python's strengths is its diverse community.\"\n",
    "print(message)"
   ]
  }
 ],
 "metadata": {
  "kernelspec": {
   "display_name": "Python 3",
   "language": "python",
   "name": "python3"
  },
  "language_info": {
   "codemirror_mode": {
    "name": "ipython",
    "version": 3
   },
   "file_extension": ".py",
   "mimetype": "text/x-python",
   "name": "python",
   "nbconvert_exporter": "python",
   "pygments_lexer": "ipython3",
   "version": "3.10.9"
  },
  "vscode": {
   "interpreter": {
    "hash": "aee8b7b246df8f9039afb4144a1f6fd8d2ca17a180786b69acc140d282b71a49"
   }
  }
 },
 "nbformat": 4,
 "nbformat_minor": 5
}
