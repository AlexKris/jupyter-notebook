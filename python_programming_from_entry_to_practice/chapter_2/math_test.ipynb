{
 "cells": [
  {
   "cell_type": "code",
   "execution_count": 1,
   "id": "6aabce51-58f9-4b12-b90c-095ebe1a7e1c",
   "metadata": {},
   "outputs": [
    {
     "name": "stdout",
     "output_type": "stream",
     "text": [
      "5\n",
      "1\n",
      "6\n",
      "1.5\n"
     ]
    }
   ],
   "source": [
    "print(3 + 2)# 加\n",
    "print(3 - 2)# 减\n",
    "print(3 * 2)# 乘\n",
    "print(3 / 2)# 除"
   ]
  },
  {
   "cell_type": "code",
   "execution_count": 2,
   "id": "b7e43e1a-4bea-467a-939d-c83c31acce26",
   "metadata": {},
   "outputs": [
    {
     "name": "stdout",
     "output_type": "stream",
     "text": [
      "9\n"
     ]
    }
   ],
   "source": [
    "print(3 ** 2)# 乘方"
   ]
  },
  {
   "cell_type": "code",
   "execution_count": 3,
   "id": "f6c6f9c9-669d-4bde-b0b9-07759fd62307",
   "metadata": {},
   "outputs": [
    {
     "name": "stdout",
     "output_type": "stream",
     "text": [
      "14\n",
      "20\n"
     ]
    }
   ],
   "source": [
    "print(2 + 3 * 4)\n",
    "print((2 + 3) * 4)"
   ]
  },
  {
   "cell_type": "code",
   "execution_count": 4,
   "id": "dad0dc05-c712-4d92-a230-b764d19ae792",
   "metadata": {},
   "outputs": [
    {
     "name": "stdout",
     "output_type": "stream",
     "text": [
      "0.2\n",
      "0.2\n",
      "0.30000000000000004\n",
      "0.30000000000000004\n"
     ]
    }
   ],
   "source": [
    "print(0.1 + 0.1)\n",
    "print(2 * 0.1)\n",
    "print(0.2 + 0.1)\n",
    "print(3 * 0.1)"
   ]
  },
  {
   "cell_type": "code",
   "execution_count": 5,
   "id": "75c8cc0f-8ebc-4b92-a2bb-00be1187d407",
   "metadata": {},
   "outputs": [
    {
     "name": "stdout",
     "output_type": "stream",
     "text": [
      "2.0\n",
      "3.0\n"
     ]
    }
   ],
   "source": [
    "print(4 / 2)# 相除，结果总是浮点数\n",
    "print(1 + 2.0)# 有操作数是浮点数，结果也是浮点数"
   ]
  },
  {
   "cell_type": "code",
   "execution_count": 1,
   "id": "d9195590-2889-4ba2-82a5-85b8e9aba255",
   "metadata": {},
   "outputs": [
    {
     "name": "stdout",
     "output_type": "stream",
     "text": [
      "14000000000\n"
     ]
    }
   ],
   "source": [
    "# 书写很大的数时，可使用下划线将其中的数字分组，使其更清晰易读，不会打印下划线，适用于整数和浮点数，Python3.6和更高版本支持\n",
    "universe_age = 14_000_000_000\n",
    "print(universe_age)"
   ]
  },
  {
   "cell_type": "code",
   "execution_count": 4,
   "id": "a95b832a",
   "metadata": {},
   "outputs": [
    {
     "name": "stdout",
     "output_type": "stream",
     "text": [
      "x = 0\n",
      "y = 1\n",
      "z = 2\n"
     ]
    }
   ],
   "source": [
    "# 同时给多个变量赋值\n",
    "x, y, z = 0, 1, 2\n",
    "print(f\"x = {x}\")\n",
    "print(f\"y = {y}\")\n",
    "print(f\"z = {z}\")"
   ]
  },
  {
   "cell_type": "code",
   "execution_count": 5,
   "id": "cd846d30",
   "metadata": {},
   "outputs": [
    {
     "name": "stdout",
     "output_type": "stream",
     "text": [
      "5000\n"
     ]
    }
   ],
   "source": [
    "# 常量\n",
    "MAX_CONNECTIONNS = 5000\n",
    "print(MAX_CONNECTIONNS)"
   ]
  }
 ],
 "metadata": {
  "kernelspec": {
   "display_name": "myenv311",
   "language": "python",
   "name": "python3"
  },
  "language_info": {
   "codemirror_mode": {
    "name": "ipython",
    "version": 3
   },
   "file_extension": ".py",
   "mimetype": "text/x-python",
   "name": "python",
   "nbconvert_exporter": "python",
   "pygments_lexer": "ipython3",
   "version": "3.11.11"
  }
 },
 "nbformat": 4,
 "nbformat_minor": 5
}
