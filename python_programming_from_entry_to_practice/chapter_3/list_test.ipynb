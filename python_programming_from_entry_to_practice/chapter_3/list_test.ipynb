{
 "cells": [
  {
   "cell_type": "code",
   "execution_count": 1,
   "id": "e4f9d83f-53d3-4977-9dac-dab7ceafaf94",
   "metadata": {},
   "outputs": [
    {
     "name": "stdout",
     "output_type": "stream",
     "text": [
      "['trek', 'cannondale', 'redline', 'specialized']\n",
      "trek\n",
      "Trek\n",
      "cannondale\n",
      "specialized\n",
      "specialized\n"
     ]
    }
   ],
   "source": [
    "bicycles = ['trek', 'cannondale', 'redline', 'specialized']\n",
    "print(bicycles)\n",
    "print(bicycles[0])# 索引从0开始\n",
    "print(bicycles[0].title())\n",
    "print(bicycles[1])\n",
    "print(bicycles[3])\n",
    "print(bicycles[-1])# 返回倒序元素"
   ]
  },
  {
   "cell_type": "code",
   "execution_count": 2,
   "id": "2c7b4669-88f7-4881-8cbc-55f5625ee1a0",
   "metadata": {},
   "outputs": [
    {
     "name": "stdout",
     "output_type": "stream",
     "text": [
      "My first bicycle was a Trek.\n"
     ]
    }
   ],
   "source": [
    "message = f\"My first bicycle was a {bicycles[0].title()}.\"\n",
    "print(message)"
   ]
  },
  {
   "cell_type": "code",
   "execution_count": 3,
   "id": "8bf9313c-e443-4a7d-baa3-d9c76f2b3ab9",
   "metadata": {},
   "outputs": [
    {
     "name": "stdout",
     "output_type": "stream",
     "text": [
      "['honda', 'yamaha', 'suzuki']\n",
      "['ducati', 'yamaha', 'suzuki']\n"
     ]
    }
   ],
   "source": [
    "motorcycles = ['honda', 'yamaha', 'suzuki']\n",
    "print(motorcycles)\n",
    "motorcycles[0] = 'ducati'# 修改列表第一个元素\n",
    "print(motorcycles)"
   ]
  },
  {
   "cell_type": "code",
   "execution_count": 5,
   "id": "574c5d7b-3862-4bdf-ab1f-15842cc52a67",
   "metadata": {},
   "outputs": [
    {
     "name": "stdout",
     "output_type": "stream",
     "text": [
      "['honda', 'yamaha', 'suzuki', 'ducati']\n"
     ]
    }
   ],
   "source": [
    "motorcycles = ['honda', 'yamaha', 'suzuki']\n",
    "motorcycles.append('ducati')# 添加元素到列表末尾\n",
    "print(motorcycles)"
   ]
  },
  {
   "cell_type": "code",
   "execution_count": 6,
   "id": "93b751da-3b2e-46b2-9e31-6cde70bc917e",
   "metadata": {},
   "outputs": [
    {
     "name": "stdout",
     "output_type": "stream",
     "text": [
      "['honda', 'yamaha', 'suzuki']\n"
     ]
    }
   ],
   "source": [
    "motorcycles = []\n",
    "motorcycles.append('honda')\n",
    "motorcycles.append('yamaha')\n",
    "motorcycles.append('suzuki')\n",
    "print(motorcycles)"
   ]
  },
  {
   "cell_type": "code",
   "execution_count": 7,
   "id": "4e8ab070-7831-4ba5-a271-78eb1a406580",
   "metadata": {},
   "outputs": [
    {
     "name": "stdout",
     "output_type": "stream",
     "text": [
      "['ducati', 'honda', 'yamaha', 'suzuki']\n"
     ]
    }
   ],
   "source": [
    "motorcycles = ['honda', 'yamaha', 'suzuki']\n",
    "motorcycles.insert(0, 'ducati')# 插入元素到指定位置\n",
    "print(motorcycles)"
   ]
  },
  {
   "cell_type": "code",
   "execution_count": 11,
   "id": "cebf1efe-5af5-4f27-8bdb-98162bf3c692",
   "metadata": {},
   "outputs": [
    {
     "name": "stdout",
     "output_type": "stream",
     "text": [
      "['honda', 'yamaha', 'suzuki']\n",
      "['yamaha', 'suzuki']\n"
     ]
    }
   ],
   "source": [
    "motorcycles = ['honda', 'yamaha', 'suzuki']\n",
    "print(motorcycles)\n",
    "del motorcycles[0]# 通过索引删除指定元素\n",
    "print(motorcycles)"
   ]
  },
  {
   "cell_type": "code",
   "execution_count": 12,
   "id": "38759cbd-5c31-4439-8e73-6332f0ce4f72",
   "metadata": {},
   "outputs": [
    {
     "name": "stdout",
     "output_type": "stream",
     "text": [
      "['honda', 'yamaha', 'suzuki']\n",
      "['honda', 'suzuki']\n"
     ]
    }
   ],
   "source": [
    "motorcycles = ['honda', 'yamaha', 'suzuki']\n",
    "print(motorcycles)\n",
    "del motorcycles[1]\n",
    "print(motorcycles)"
   ]
  },
  {
   "cell_type": "code",
   "execution_count": 13,
   "id": "5d496bf5-9b98-4f0d-b95a-43fc841ec3d5",
   "metadata": {},
   "outputs": [
    {
     "name": "stdout",
     "output_type": "stream",
     "text": [
      "['honda', 'yamaha', 'suzuki']\n",
      "['honda', 'yamaha']\n",
      "suzuki\n"
     ]
    }
   ],
   "source": [
    "motorcycles = ['honda', 'yamaha', 'suzuki']\n",
    "print(motorcycles)\n",
    "popped_motorcycle = motorcycles.pop()# 弹出列表末尾元素\n",
    "print(motorcycles)\n",
    "print(popped_motorcycle)"
   ]
  },
  {
   "cell_type": "code",
   "execution_count": 14,
   "id": "4cd38653-2f8d-4a0c-a1f7-f09199518a8c",
   "metadata": {},
   "outputs": [
    {
     "name": "stdout",
     "output_type": "stream",
     "text": [
      "The last motorcycle I owned was a Suzuki.\n"
     ]
    }
   ],
   "source": [
    "motorcycles = ['honda', 'yamaha', 'suzuki']\n",
    "last_owned = motorcycles.pop()\n",
    "print(f\"The last motorcycle I owned was a {last_owned.title()}.\")"
   ]
  },
  {
   "cell_type": "code",
   "execution_count": 15,
   "id": "e3722b4f-4458-440c-80bf-af7d344ab74b",
   "metadata": {},
   "outputs": [
    {
     "name": "stdout",
     "output_type": "stream",
     "text": [
      "The first motorcycle I owned was a Honda.\n"
     ]
    }
   ],
   "source": [
    "motorcycles = ['honda', 'yamaha', 'suzuki']\n",
    "first_owned = motorcycles.pop(0)# 弹出指定索引的元素\n",
    "print(f\"The first motorcycle I owned was a {first_owned.title()}.\")"
   ]
  },
  {
   "cell_type": "code",
   "execution_count": 16,
   "id": "b315f2fd-9962-4bd4-a215-2657fcd976f4",
   "metadata": {
    "tags": []
   },
   "outputs": [],
   "source": [
    "# 如果你要从列表中删除一个元素，且不再以任何方式使用它，就使用del语句；如果你要在删除元素后还能继续使用它，就使用方法pop()"
   ]
  },
  {
   "cell_type": "code",
   "execution_count": 18,
   "id": "35e320ab-8558-42a5-9bcb-86ebe7b24d42",
   "metadata": {},
   "outputs": [
    {
     "name": "stdout",
     "output_type": "stream",
     "text": [
      "['honda', 'yamaha', 'suzuki', 'ducati']\n",
      "['honda', 'yamaha', 'suzuki']\n"
     ]
    }
   ],
   "source": [
    "motorcycles = ['honda', 'yamaha', 'suzuki', 'ducati']\n",
    "print(motorcycles)\n",
    "motorcycles.remove('ducati')# 已知要删除元素的值\n",
    "print(motorcycles)"
   ]
  },
  {
   "cell_type": "code",
   "execution_count": 1,
   "id": "23cc4d73-ca55-49aa-b6f3-967b9c430f52",
   "metadata": {},
   "outputs": [
    {
     "name": "stdout",
     "output_type": "stream",
     "text": [
      "['honda', 'yamaha', 'suzuki', 'ducati']\n",
      "['honda', 'yamaha', 'suzuki']\n",
      "\n",
      "A Ducati is too expensive for me.\n"
     ]
    }
   ],
   "source": [
    "motorcycles = ['honda', 'yamaha', 'suzuki', 'ducati']\n",
    "print(motorcycles)\n",
    "too_expensive = 'ducati'\n",
    "motorcycles.remove(too_expensive)\n",
    "print(motorcycles)\n",
    "print(f\"\\nA {too_expensive.title()} is too expensive for me.\")"
   ]
  },
  {
   "cell_type": "code",
   "execution_count": 3,
   "id": "16d7f55f-d78d-46e1-81d5-10df874abc6f",
   "metadata": {},
   "outputs": [
    {
     "name": "stdout",
     "output_type": "stream",
     "text": [
      "['zhengxiang', 'yanglingxiao', 'wangchao']\n",
      "invite guests ['zhengxiang', 'yanglingxiao', 'wangchao'] dinner.\n",
      "guest wangchao can't come\n",
      "invite guests ['zhengxiang', 'yanglingxiao', 'gaocong'] dinner.\n",
      "find a bigger table\n",
      "invite guests ['zhengxiang', 'gaoruiting', 'yanglingxiao', 'gaocong', 'yangyongcun'] dinner.\n",
      "the bigger table can't come, just two guest\n"
     ]
    }
   ],
   "source": [
    "guests = []\n",
    "guests.append('zhengxiang')\n",
    "guests.append('yanglingxiao')\n",
    "guests.append('wangchao')\n",
    "print(guests)\n",
    "print(f\"invite guests {guests} dinner.\")\n",
    "cannot_guest = guests.pop(-1)\n",
    "print(f\"guest {cannot_guest} can't come\")\n",
    "guests.append('gaocong')\n",
    "print(f\"invite guests {guests} dinner.\")\n",
    "print(\"find a bigger table\")\n",
    "guests.insert(1, 'gaoruiting')\n",
    "guests.append('yangyongcun')\n",
    "print(f\"invite guests {guests} dinner.\")\n",
    "print(\"the bigger table can't come, just two guest\")"
   ]
  },
  {
   "cell_type": "code",
   "execution_count": 8,
   "id": "c2a71e4b-b255-44a8-92ad-04107cc2d961",
   "metadata": {},
   "outputs": [
    {
     "name": "stdout",
     "output_type": "stream",
     "text": [
      "['bmw', 'audi', 'toyota', 'subaru']\n",
      "['audi', 'bmw', 'subaru', 'toyota']\n",
      "['toyota', 'subaru', 'bmw', 'audi']\n"
     ]
    }
   ],
   "source": [
    "# 组织列表\n",
    "# sort() 对列表永久排序\n",
    "cars = ['bmw', 'audi', 'toyota', 'subaru']\n",
    "print(cars)\n",
    "cars.sort()# 按字母顺序排序\n",
    "print(cars)\n",
    "cars.sort(reverse=True)# 按字母顺序相反排序\n",
    "print(cars)"
   ]
  },
  {
   "cell_type": "code",
   "execution_count": 16,
   "id": "8ace9600-fb50-448f-97d2-645e7b7c3634",
   "metadata": {},
   "outputs": [
    {
     "name": "stdout",
     "output_type": "stream",
     "text": [
      "Here is the original list:\n",
      "['bmw', 'audi', 'toyota', 'subaru']\n",
      "\n",
      "Here is the sorted list:\n",
      "['audi', 'bmw', 'subaru', 'toyota']\n",
      "Here is the sorted list:\n",
      "['toyota', 'subaru', 'bmw', 'audi']\n",
      "\n",
      "Here is the original list:\n",
      "['bmw', 'audi', 'toyota', 'subaru']\n"
     ]
    }
   ],
   "source": [
    "# sorted() 对列表临时排序\n",
    "cars = ['bmw', 'audi', 'toyota', 'subaru']\n",
    "print(\"Here is the original list:\")\n",
    "print(cars)\n",
    "print(\"\\nHere is the sorted list:\")\n",
    "print(sorted(cars))# 按字母顺序排序\n",
    "print(\"Here is the sorted list:\")\n",
    "print(sorted(cars, reverse=True))# 按字母顺序相反排序\n",
    "print(\"\\nHere is the original list:\")\n",
    "print(cars)"
   ]
  },
  {
   "cell_type": "code",
   "execution_count": 18,
   "id": "4938de84-8cac-4273-9463-b45bf58bd27a",
   "metadata": {},
   "outputs": [
    {
     "name": "stdout",
     "output_type": "stream",
     "text": [
      "['bmw', 'audi', 'toyota', 'subaru']\n",
      "['subaru', 'toyota', 'audi', 'bmw']\n"
     ]
    }
   ],
   "source": [
    "# reverse() 永久性反转列表元素\n",
    "cars = ['bmw', 'audi', 'toyota', 'subaru']\n",
    "print(cars)\n",
    "cars.reverse()\n",
    "print(cars)"
   ]
  },
  {
   "cell_type": "code",
   "execution_count": 19,
   "id": "b257dfa6-04b9-4d24-91f4-b04793c8aa89",
   "metadata": {},
   "outputs": [
    {
     "data": {
      "text/plain": [
       "4"
      ]
     },
     "execution_count": 19,
     "metadata": {},
     "output_type": "execute_result"
    }
   ],
   "source": [
    "# len()获取列表长度\n",
    "cars = ['bmw', 'audi', 'toyota', 'subaru']\n",
    "len(cars)"
   ]
  },
  {
   "cell_type": "code",
   "execution_count": 25,
   "id": "6f997a00-cd1f-4e91-928c-291b257581ee",
   "metadata": {},
   "outputs": [
    {
     "name": "stdout",
     "output_type": "stream",
     "text": [
      "alice\n",
      "Alice, that was a great trick!\n",
      "I can't wait to see your next trick, Alice.\n",
      "\n",
      "david\n",
      "David, that was a great trick!\n",
      "I can't wait to see your next trick, David.\n",
      "\n",
      "carolina\n",
      "Carolina, that was a great trick!\n",
      "I can't wait to see your next trick, Carolina.\n",
      "\n",
      "Thank you, everyone, That was a great magic show!\n"
     ]
    }
   ],
   "source": [
    "# 使用for遍历列表\n",
    "magicians = ['alice', 'david', 'carolina']\n",
    "for magician in magicians:# 从列表取出一个元素，并与变量相关联\n",
    "    print(magician)\n",
    "    print(f\"{magician.title()}, that was a great trick!\")\n",
    "    print(f\"I can't wait to see your next trick, {magician.title()}.\\n\")\n",
    "print(\"Thank you, everyone, That was a great magic show!\")"
   ]
  },
  {
   "cell_type": "code",
   "execution_count": 43,
   "id": "32d199de-f699-44c0-a3c1-94141276eba7",
   "metadata": {},
   "outputs": [
    {
     "name": "stdout",
     "output_type": "stream",
     "text": [
      "1\n",
      "2\n",
      "3\n",
      "4\n",
      "0\n",
      "1\n",
      "2\n",
      "3\n",
      "4\n",
      "5\n",
      "[1, 2, 3, 4, 5]\n",
      "[2, 4, 6, 8, 10]\n",
      "[1, 4, 9, 16, 25, 36, 49, 64, 81, 100]\n"
     ]
    }
   ],
   "source": [
    "# range()函数生成一系列数字\n",
    "for value in range(1, 5):# 从第一个入参值开始，到达第二个入参值结束，不包括第二个入参\n",
    "    print(value)\n",
    "for value in range(6):# 只有一个入参，从0开始\n",
    "    print(value)\n",
    "# list()函数转换成列表\n",
    "numbers = list(range(1, 6))\n",
    "print(numbers)\n",
    "# range()函数，第三个参数，指定步长\n",
    "even_numbers = list(range(2, 11, 2))\n",
    "print(even_numbers)\n",
    "# ** 表示乘方运算\n",
    "squares = []\n",
    "for value in range(1, 11):\n",
    "    # square = value ** 2\n",
    "    squares.append(value ** 2)\n",
    "print(squares)"
   ]
  },
  {
   "cell_type": "code",
   "execution_count": 38,
   "id": "5912ebcb-7d41-4597-af93-288bb5a73aec",
   "metadata": {},
   "outputs": [
    {
     "name": "stdout",
     "output_type": "stream",
     "text": [
      "0\n",
      "9\n",
      "45\n"
     ]
    }
   ],
   "source": [
    "digits = [1, 2, 3, 4, 5, 6, 7, 8, 9, 0]\n",
    "print(min(digits))# 最小值\n",
    "print(max(digits))# 最大值\n",
    "print(sum(digits))# 求和"
   ]
  },
  {
   "cell_type": "code",
   "execution_count": 40,
   "id": "07fc948d-d08c-4c80-b704-b7970e861d33",
   "metadata": {},
   "outputs": [
    {
     "name": "stdout",
     "output_type": "stream",
     "text": [
      "[1, 4, 9, 16, 25, 36, 49, 64, 81, 100]\n"
     ]
    }
   ],
   "source": [
    "# 列表解析，可将for循环和创建新元素的代码合并成一行，并自动附加新元素\n",
    "squares = [value ** 2 for value in range(1, 11)]\n",
    "# 1. 指定一个描述性的列表名，如squares\n",
    "# 2. 一个左方括号[\n",
    "# 3. 定义一个表达式，用于生成要存储到列表的值，如value ** 3\n",
    "# 4. for循环，为3的表达式提供值\n",
    "# 5. 一个右方括号]\n",
    "print(squares)"
   ]
  },
  {
   "cell_type": "code",
   "execution_count": 56,
   "id": "3661bd97-2cd3-480b-9865-072b7d8f5f28",
   "metadata": {},
   "outputs": [
    {
     "name": "stdout",
     "output_type": "stream",
     "text": [
      "['charles', 'martina', 'michael']\n",
      "['martina', 'michael', 'florence']\n",
      "['charles', 'martina', 'michael']\n",
      "['michael', 'florence', 'eli']\n",
      "['michael', 'florence', 'eli']\n",
      "Here are the first three players on my team:\n",
      "\tCharles\n",
      "\tMartina\n",
      "\tMichael\n"
     ]
    }
   ],
   "source": [
    "# [第一个索引:第二个索引]切片列表\n",
    "players = ['charles', 'martina', 'michael', 'florence', 'eli']\n",
    "print(players[0:3])# 返回索引从第一个入参值开始，到第二个入参值截止，不包含第二个入参值\n",
    "print(players[1:4])\n",
    "print(players[:3])# 未指定第一个索引，将从列表起始位置开始\n",
    "print(players[2:])# 未指定第二个索引，将截止到列表末尾位置开始\n",
    "print(players[-3:])# 最后三名\n",
    "# 遍历切片\n",
    "print(\"Here are the first three players on my team:\")\n",
    "for player in players[:3]:\n",
    "    print(f\"\\t{player.title()}\")"
   ]
  },
  {
   "cell_type": "code",
   "execution_count": 2,
   "id": "b15e6c9f-65a8-4fc7-8130-1a6300f1f620",
   "metadata": {},
   "outputs": [
    {
     "name": "stdout",
     "output_type": "stream",
     "text": [
      "My favorite foods are:\n",
      "['pizza', 'falafel', 'carrot cake', 'cannoli']\n",
      "\n",
      "My friend's favorite foods are:\n",
      "['pizza', 'falafel', 'carrot cake', 'ice cream']\n"
     ]
    }
   ],
   "source": [
    "# 复制列表，同时忽略起始索引和终止索引[:]，创建一个始于第一个元素、终止于最后一个元素\n",
    "my_foods = ['pizza', 'falafel', 'carrot cake']\n",
    "friend_foods = my_foods[:]\n",
    "my_foods.append('cannoli')\n",
    "friend_foods.append('ice cream')\n",
    "print(\"My favorite foods are:\")\n",
    "print(my_foods)\n",
    "print(\"\\nMy friend's favorite foods are:\")\n",
    "print(friend_foods)"
   ]
  }
 ],
 "metadata": {
  "kernelspec": {
   "display_name": "myenv311",
   "language": "python",
   "name": "python3"
  },
  "language_info": {
   "codemirror_mode": {
    "name": "ipython",
    "version": 3
   },
   "file_extension": ".py",
   "mimetype": "text/x-python",
   "name": "python",
   "nbconvert_exporter": "python",
   "pygments_lexer": "ipython3",
   "version": "3.11.11"
  }
 },
 "nbformat": 4,
 "nbformat_minor": 5
}
